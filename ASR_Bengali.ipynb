{
 "cells": [
  {
   "cell_type": "code",
   "execution_count": 1,
   "metadata": {
    "collapsed": true
   },
   "outputs": [
    {
     "data": {
      "text/plain": "           id   hash                   text\n0  000039928e  976b1    এ ধরণের কার্ড নিয়ে\n1  00005debc7  f83df      হতে উপার্জিত অর্থ\n2  00009e687c  9813c  হাসির বিষয় হয়েই আছে\n3  00012843bc  7ec1c        সার্ক দেশগুলোতে\n4  00012880b1  e43d4      সহজেই যাওয়া যায়",
      "text/html": "<div>\n<style scoped>\n    .dataframe tbody tr th:only-of-type {\n        vertical-align: middle;\n    }\n\n    .dataframe tbody tr th {\n        vertical-align: top;\n    }\n\n    .dataframe thead th {\n        text-align: right;\n    }\n</style>\n<table border=\"1\" class=\"dataframe\">\n  <thead>\n    <tr style=\"text-align: right;\">\n      <th></th>\n      <th>id</th>\n      <th>hash</th>\n      <th>text</th>\n    </tr>\n  </thead>\n  <tbody>\n    <tr>\n      <th>0</th>\n      <td>000039928e</td>\n      <td>976b1</td>\n      <td>এ ধরণের কার্ড নিয়ে</td>\n    </tr>\n    <tr>\n      <th>1</th>\n      <td>00005debc7</td>\n      <td>f83df</td>\n      <td>হতে উপার্জিত অর্থ</td>\n    </tr>\n    <tr>\n      <th>2</th>\n      <td>00009e687c</td>\n      <td>9813c</td>\n      <td>হাসির বিষয় হয়েই আছে</td>\n    </tr>\n    <tr>\n      <th>3</th>\n      <td>00012843bc</td>\n      <td>7ec1c</td>\n      <td>সার্ক দেশগুলোতে</td>\n    </tr>\n    <tr>\n      <th>4</th>\n      <td>00012880b1</td>\n      <td>e43d4</td>\n      <td>সহজেই যাওয়া যায়</td>\n    </tr>\n  </tbody>\n</table>\n</div>"
     },
     "execution_count": 1,
     "metadata": {},
     "output_type": "execute_result"
    }
   ],
   "source": [
    "import pandas as pd\n",
    "\n",
    "df = pd.read_csv('./asr_bengali/utt_spk_text.tsv', sep='\\t')\n",
    "df.columns = [\"id\", \"hash\", \"text\"]\n",
    "df.head()"
   ]
  },
  {
   "cell_type": "code",
   "execution_count": 3,
   "outputs": [
    {
     "data": {
      "text/plain": "'সার্ক দেশগুলোতে'"
     },
     "execution_count": 3,
     "metadata": {},
     "output_type": "execute_result"
    }
   ],
   "source": [
    "txt = df.loc[df['id'] == \"00012843bc\", [\"text\"]]\n",
    "txt.values[0][0]"
   ],
   "metadata": {
    "collapsed": false,
    "pycharm": {
     "name": "#%%\n"
    }
   }
  }
 ],
 "metadata": {
  "kernelspec": {
   "display_name": "Python 3",
   "language": "python",
   "name": "python3"
  },
  "language_info": {
   "codemirror_mode": {
    "name": "ipython",
    "version": 2
   },
   "file_extension": ".py",
   "mimetype": "text/x-python",
   "name": "python",
   "nbconvert_exporter": "python",
   "pygments_lexer": "ipython2",
   "version": "2.7.6"
  }
 },
 "nbformat": 4,
 "nbformat_minor": 0
}